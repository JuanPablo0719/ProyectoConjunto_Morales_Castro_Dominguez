{
 "cells": [
  {
   "cell_type": "markdown",
   "metadata": {},
   "source": [
    "<img style=\"float: left; margin: 30px 15px 15px 15px;\" src=\"https://pngimage.net/wp-content/uploads/2018/06/logo-iteso-png-5.png\" width=\"300\" height=\"500\" /> \n",
    "    \n",
    "    \n",
    "### <font color='navy'> Simulación de procesos financieros. \n",
    "\n",
    "**Nombres:** José de Jesús Morales Dominguez, Dario Castro González, Juan Pablo Domínguez Rodríguez.\n",
    "\n",
    "**Fecha:** 21 de febrero del 2024.\n",
    "\n",
    "**Expediente** : 742298, 719910,  .\n",
    "**Profesor:** Oscar David Jaramillo Zuluaga.\n",
    "    \n",
    "**Link Github**: https://github.com/JMlrales/ProyectoConjunto_Morales_Castro_Dominguez.\n",
    "\n",
    "# Tarea 4: Clase 8"
   ]
  },
  {
   "cell_type": "markdown",
   "metadata": {},
   "source": [
    "## Simulación de Montecarlo\n",
    "> Resolver los siguientes ejercicios empleando lo visto en clase sobre simulación de Montecarlo"
   ]
  },
  {
   "cell_type": "markdown",
   "metadata": {},
   "source": [
    "### Ejercicio 1: Como ejemplo simple de una simulación de Monte Carlo, considere calcular la probabilidad de una suma particular del lanzamiento de tres dados (cada dado tiene valores del uno al seis). Además cada dado tiene las siguientes carácterísticas: el primer dado no está cargado (distribución uniforme todos son equiprobables); el segundo y tercer dado están cargados basados en una distribución binomial con parámetros (`n=5, p=0.5` y `n=5, p=0.2`). Calcule la probabilidad de que la suma resultante sea 7, 14 o 18. "
   ]
  },
  {
   "cell_type": "markdown",
   "metadata": {},
   "source": [
    "Código de solución estudiante 1 (*José de Jesús Morales Dominguez*)"
   ]
  },
  {
   "cell_type": "code",
   "execution_count": null,
   "metadata": {},
   "outputs": [],
   "source": [
    "# Código de solución estudiante 1\n",
    "\n"
   ]
  },
  {
   "cell_type": "markdown",
   "metadata": {},
   "source": [
    "Código de solución estudiante 2 (*Dario Castro González*)"
   ]
  },
  {
   "cell_type": "code",
   "execution_count": 2,
   "metadata": {},
   "outputs": [
    {
     "name": "stdout",
     "output_type": "stream",
     "text": [
      "Probabilidad de obtener 7: 0.1608\n",
      "Probabilidad de obtener 14: 0.0008\n",
      "Probabilidad de obtener 18: 0.0000\n"
     ]
    }
   ],
   "source": [
    "# Código de solución estudiante 2\n",
    "import numpy as np\n",
    "from scipy.stats import binom\n",
    "\n",
    "def lanzamiento_dado_cargado(n, p):\n",
    "    probabilidades = binom.pmf(np.arange(1, 7), n, p)\n",
    "    probabilidades /= probabilidades.sum()  # Normalizar las probabilidades\n",
    "    return np.random.choice(np.arange(1, 7), p=probabilidades)\n",
    "\n",
    "def simulacion_monte_carlo(num_simulaciones):\n",
    "    resultados = []\n",
    "    for _ in range(num_simulaciones):\n",
    "        dado1 = np.random.randint(1, 7)\n",
    "        dado2 = lanzamiento_dado_cargado(5, 0.5)\n",
    "        dado3 = lanzamiento_dado_cargado(5, 0.2)\n",
    "        suma = dado1 + dado2 + dado3\n",
    "        resultados.append(suma)\n",
    "    return resultados\n",
    "\n",
    "def calcular_probabilidad(resultados, valores):\n",
    "    conteo = {valor: 0 for valor in valores}\n",
    "    for resultado in resultados:\n",
    "        if resultado in conteo:\n",
    "            conteo[resultado] += 1\n",
    "    probabilidades = {valor: conteo[valor] / len(resultados) for valor in valores}\n",
    "    return probabilidades\n",
    "\n",
    "num_simulaciones = 100000\n",
    "resultados = simulacion_monte_carlo(num_simulaciones)\n",
    "valores_interes = [7, 14, 18]\n",
    "probabilidades = calcular_probabilidad(resultados, valores_interes)\n",
    "\n",
    "for valor in valores_interes:\n",
    "    print(f\"Probabilidad de obtener {valor}: {probabilidades[valor]:.4f}\")\n"
   ]
  },
  {
   "cell_type": "markdown",
   "metadata": {},
   "source": [
    "Código de solución del estudiante 3 (*Juan Pablo Domínguez Rodríguez*)"
   ]
  },
  {
   "cell_type": "code",
   "execution_count": 4,
   "metadata": {},
   "outputs": [
    {
     "name": "stdout",
     "output_type": "stream",
     "text": [
      "Probabilidad de obtener una suma de 7: 0.162107\n",
      "Probabilidad de obtener una suma de 14: 0.000496\n",
      "Probabilidad de obtener una suma de 18: 0.0\n"
     ]
    }
   ],
   "source": [
    "# Código de solución estudiante 3\n",
    "# Código de solución estudiante 3\n",
    "import numpy as np\n",
    "\n",
    "def lanzamiento_dado_cargado(p):\n",
    "    return np.random.binomial(5, p, 1)[0]\n",
    "\n",
    "def lanzamiento_dado_no_cargado():\n",
    "    return np.random.randint(1, 7)\n",
    "\n",
    "num_simulaciones = 1000000\n",
    "\n",
    "dados_no_cargados = np.random.randint(1, 7, num_simulaciones)\n",
    "dados_cargados_1 = [lanzamiento_dado_cargado(0.5) for _ in range(num_simulaciones)]\n",
    "dados_cargados_2 = [lanzamiento_dado_cargado(0.2) for _ in range(num_simulaciones)]\n",
    "\n",
    "sumas = dados_no_cargados + dados_cargados_1 + dados_cargados_2\n",
    "\n",
    "probabilidad_7 = np.sum(sumas == 7) / num_simulaciones\n",
    "probabilidad_14 = np.sum(sumas == 14) / num_simulaciones\n",
    "probabilidad_18 = np.sum(sumas == 18) / num_simulaciones\n",
    "\n",
    "print(\"Probabilidad de obtener una suma de 7:\", probabilidad_7)\n",
    "print(\"Probabilidad de obtener una suma de 14:\", probabilidad_14)\n",
    "print(\"Probabilidad de obtener una suma de 18:\", probabilidad_18)"
   ]
  },
  {
   "cell_type": "markdown",
   "metadata": {},
   "source": [
    "### Ejercicio 2: En un casino, un jugador está jugando a lanzar un dado justo de 6 caras. Si el jugador lanza un número par, el casino paga $\\$1$ al jugador, de lo contrario, el jugador paga $\\$1$ al casino. El jugador decide jugar 100 veces.\n",
    "\n",
    "1. ¿Cuál es la probabilidad de que un jugador gane dinero después de 100 lanzamientos del dado bajo las reglas del juego (el casino paga $\\$1$ si el resultado es par y el jugador paga $\\$1$ si es impar)?\n",
    "\n",
    "2. ¿Cómo afectaría el cambio en las reglas del juego (por ejemplo, el casino paga $\\$2$ si el resultado es par y el jugador paga $\\$1$ si es impar) a la ganancia esperada para el jugador después de 100 lanzamientos?"
   ]
  },
  {
   "cell_type": "markdown",
   "metadata": {},
   "source": [
    "Código de solución estudiante 1 (*José de Jesús Morales Dominguez*)"
   ]
  },
  {
   "cell_type": "code",
   "execution_count": 116,
   "metadata": {},
   "outputs": [
    {
     "name": "stdout",
     "output_type": "stream",
     "text": [
      " De 100 veces jugadas se ganaron 53 , y se perdieron 47\n",
      " Las probabilidades de ganar después de 100 lanzamientos son: 53.0%\n"
     ]
    }
   ],
   "source": [
    "# Código de solución estudiante 1\n",
    "import numpy as np\n",
    "np.random.seed(200)\n",
    "def dado():\n",
    "    num=np.random.randint(1,7)\n",
    "    if num%2==0:\n",
    "        return True\n",
    "    else:\n",
    "        return False\n",
    "#Probando la función\n",
    "N=100\n",
    "ganas=sum([dado() for i in range(N)])\n",
    "perdidas=N-ganas\n",
    "print(f' De 100 veces jugadas se ganaron {ganas} , y se perdieron {perdidas}')\n",
    "prob=(ganas/N)*100\n",
    "print(f' Las probabilidades de ganar después de 100 lanzamientos son: {prob}%')"
   ]
  },
  {
   "cell_type": "code",
   "execution_count": 135,
   "metadata": {},
   "outputs": [
    {
     "name": "stdout",
     "output_type": "stream",
     "text": [
      "[100  99 101 100  99  98  97  99 101 103 105 107 106 105 107 109 111 113\n",
      " 115 117 116 118 117 119 118 120 119 118 117 119 121 123 125 124 123 125\n",
      " 124 123 122 124 123 122 124 126 125 124 123 122 124 126 125 124 123 122\n",
      " 121 120 122 121 120 122 121 120 122 124 123 125 127 129 131 130 129 131\n",
      " 133 135 134 133 135 134 136 138 137 139 138 140 142 144 146 148 147 149\n",
      " 148 150 149 148 150 152 151 153 155 157]\n"
     ]
    },
    {
     "data": {
      "text/plain": [
       "[<matplotlib.lines.Line2D at 0x1fe63f6df50>]"
      ]
     },
     "execution_count": 135,
     "metadata": {},
     "output_type": "execute_result"
    },
    {
     "data": {
      "image/png": "[encoded data removed]",
      "text/plain": [
       "<Figure size 640x480 with 1 Axes>"
      ]
     },
     "metadata": {},
     "output_type": "display_data"
    }
   ],
   "source": [
    "import matplotlib.pyplot as plt\n",
    "def apostador(cap_inicial,ganar,apuestas):\n",
    "    capital=[cap_inicial]+[ganar if dado() else -1 for i in range(apuestas-1)]\n",
    "    return np.cumsum(capital)\n",
    "np.random.seed(200)\n",
    "print(apostador(100,2,100))\n",
    "plt.plot(apostador(100,2,100))"
   ]
  },
  {
   "cell_type": "markdown",
   "metadata": {},
   "source": [
    "Código de solución estudiante 2 (*Dario Castro González*)"
   ]
  },
  {
   "cell_type": "code",
   "execution_count": 13,
   "metadata": {},
   "outputs": [
    {
     "name": "stdout",
     "output_type": "stream",
     "text": [
      "Ganamos 50  veces y perdimos 50  veces.\n",
      "probabilidad de ganar= 0.5\n"
     ]
    }
   ],
   "source": [
    "# Código de solución estudiante 2\n",
    "# Crear una función para que devuelva simplemente ganar(true) o perder(false)\n",
    "def dado():\n",
    "    x = np.random.randint(1,7)\n",
    "    if x == 1 or x == 3 or x==5:\n",
    "        return False\n",
    "    else:\n",
    "        return True\n",
    "# Probar la función creada para ver que funcione\n",
    "N = 100\n",
    "\n",
    "\n",
    "contador_ganar = sum([dado() for i in range(N)])\n",
    "contador_perder = N - contador_ganar\n",
    "print(\"Ganamos\", contador_ganar, \" veces y perdimos\", contador_perder, \" veces.\")\n",
    "print('probabilidad de ganar=', contador_ganar / N)\n"
   ]
  },
  {
   "cell_type": "code",
   "execution_count": 14,
   "metadata": {},
   "outputs": [],
   "source": [
    "def apostador2(cap_inicial, apuesta, n_apuestas):\n",
    "    np.random.seed(516)\n",
    "    capital = cap_inicial\n",
    "    c_capital = [capital]\n",
    "    for i in range(n_apuestas-1):\n",
    "        if dado():\n",
    "            capital += apuesta\n",
    "            c_capital.append(capital)\n",
    "        else:\n",
    "            capital -= apuesta\n",
    "            ccapital.append(capital)\n",
    "    return ccapital"
   ]
  },
  {
   "cell_type": "code",
   "execution_count": 16,
   "metadata": {},
   "outputs": [
    {
     "data": {
      "text/plain": [
       "array([100,  99,  98,  97,  98,  99, 100, 101, 100, 101, 102, 101, 102,\n",
       "       101, 100,  99, 100, 101, 100,  99,  98,  97,  96,  95,  96,  97,\n",
       "        96,  95,  94,  93,  92,  91,  92,  93,  92,  93,  94,  95,  96,\n",
       "        97,  98,  99, 100,  99,  98,  99, 100, 101, 100, 101, 100,  99,\n",
       "       100,  99, 100, 101, 100, 101, 102, 103, 104, 105, 106, 105, 104,\n",
       "       105, 106, 105, 106, 107, 106, 105, 104, 105, 104, 105, 106, 105,\n",
       "       106, 107, 108, 109, 108, 107, 108, 109, 110, 109, 110, 109, 110,\n",
       "       111, 110, 111, 110, 109, 110, 109, 108, 109, 110], dtype=int32)"
      ]
     },
     "execution_count": 16,
     "metadata": {},
     "output_type": "execute_result"
    }
   ],
   "source": [
    "def apostador_nested_f(cap_inicial, apuesta, n_apuestas):\n",
    "    np.random.seed(510)\n",
    "    c_capital = np.cumsum([cap_inicial] + [apuesta if dado() else -apuesta for i in range(n_apuestas)])\n",
    "    return c_capital    \n",
    "\n",
    "apostador_nested_f(100, 1, 100)"
   ]
  },
  {
   "cell_type": "code",
   "execution_count": 20,
   "metadata": {},
   "outputs": [
    {
     "data": {
      "text/plain": [
       "[<matplotlib.lines.Line2D at 0x1f4c4ee3070>]"
      ]
     },
     "execution_count": 20,
     "metadata": {},
     "output_type": "execute_result"
    },
    {
     "data": {
      "image/png": "[encoded data removed]",
      "text/plain": [
       "<Figure size 432x288 with 1 Axes>"
      ]
     },
     "metadata": {
      "needs_background": "light"
     },
     "output_type": "display_data"
    }
   ],
   "source": [
    "import matplotlib.pyplot as plt \n",
    "plt.plot(apostador_nested_f(100, 1, 100))"
   ]
  },
  {
   "cell_type": "markdown",
   "metadata": {},
   "source": [
    "Código de solución del estudiante 3 (*Juan Pablo Domínguez Rodríguez*)"
   ]
  },
  {
   "cell_type": "code",
   "execution_count": 3,
   "metadata": {},
   "outputs": [
    {
     "name": "stdout",
     "output_type": "stream",
     "text": [
      "Gane 50 y Perdi 50\n",
      "Probabilidad de Ganar 50.0  %  y Probabilidad de Perder 50.0 %\n",
      "Ganancia o perdida esperada $ 0 de 100 juegos\n"
     ]
    }
   ],
   "source": [
    "# Código de solución estudiante 3\n",
    "# Código de solución estudiante 3\n",
    "import random\n",
    "N = 100\n",
    "\n",
    "ganados = 0\n",
    "perdidos = 0\n",
    "\n",
    "for i in range(N):\n",
    "    resultado_dado = random.randint(1,6)\n",
    "    if resultado_dado % 2 == 0:\n",
    "        ganados += 1\n",
    "    else:\n",
    "        perdidos += 1\n",
    "\n",
    "contador_W = ganados\n",
    "contador_L = N - ganados\n",
    "\n",
    "print(\"Gane\", contador_W, \"y Perdi\", contador_L)\n",
    "\n",
    "print(\"Probabilidad de Ganar\", (contador_W  / N)*100,\" % \", \"y Probabilidad de Perder\", (contador_L / N) * 100 , \"%\" )\n",
    "\n",
    "print(\"Ganancia o perdida esperada $\", contador_W - contador_L , \"de\", N , \"juegos\")"
   ]
  }
 ],
 "metadata": {
  "kernelspec": {
   "display_name": "Python 3 (ipykernel)",
   "language": "python",
   "name": "python3"
  },
  "language_info": {
   "codemirror_mode": {
    "name": "ipython",
    "version": 3
   },
   "file_extension": ".py",
   "mimetype": "text/x-python",
   "name": "python",
   "nbconvert_exporter": "python",
   "pygments_lexer": "ipython3",
   "version": "3.11.5"
  }
 },
 "nbformat": 4,
 "nbformat_minor": 2
}
